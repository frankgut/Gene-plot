{
 "cells": [
  {
   "cell_type": "code",
   "execution_count": 15,
   "metadata": {
    "collapsed": false
   },
   "outputs": [],
   "source": [
    "import pandas as pd\n",
    "import numpy as np\n",
    "import seaborn as sns\n",
    "import matplotlib.pyplot as plt\n",
    "%matplotlib inline\n"
   ]
  },
  {
   "cell_type": "markdown",
   "metadata": {},
   "source": [
    "# Read data"
   ]
  },
  {
   "cell_type": "code",
   "execution_count": 2,
   "metadata": {
    "collapsed": true
   },
   "outputs": [],
   "source": [
    "data1 = pd.read_csv('data1.csv')\n",
    "data2 = pd.read_csv('data2.csv')"
   ]
  },
  {
   "cell_type": "code",
   "execution_count": 3,
   "metadata": {
    "collapsed": false
   },
   "outputs": [
    {
     "data": {
      "text/html": [
       "<div>\n",
       "<style scoped>\n",
       "    .dataframe tbody tr th:only-of-type {\n",
       "        vertical-align: middle;\n",
       "    }\n",
       "\n",
       "    .dataframe tbody tr th {\n",
       "        vertical-align: top;\n",
       "    }\n",
       "\n",
       "    .dataframe thead th {\n",
       "        text-align: right;\n",
       "    }\n",
       "</style>\n",
       "<table border=\"1\" class=\"dataframe\">\n",
       "  <thead>\n",
       "    <tr style=\"text-align: right;\">\n",
       "      <th></th>\n",
       "      <th>Gene</th>\n",
       "      <th>2Me-C24</th>\n",
       "      <th>2Me-C26</th>\n",
       "      <th>2Me-C28</th>\n",
       "    </tr>\n",
       "  </thead>\n",
       "  <tbody>\n",
       "    <tr>\n",
       "      <th>0</th>\n",
       "      <td>GI20343</td>\n",
       "      <td>1.346744</td>\n",
       "      <td>2.496608</td>\n",
       "      <td>1.463480</td>\n",
       "    </tr>\n",
       "    <tr>\n",
       "      <th>1</th>\n",
       "      <td>GI20343</td>\n",
       "      <td>1.775602</td>\n",
       "      <td>3.321113</td>\n",
       "      <td>2.007517</td>\n",
       "    </tr>\n",
       "    <tr>\n",
       "      <th>2</th>\n",
       "      <td>GI20343</td>\n",
       "      <td>2.145769</td>\n",
       "      <td>4.032710</td>\n",
       "      <td>2.505147</td>\n",
       "    </tr>\n",
       "    <tr>\n",
       "      <th>3</th>\n",
       "      <td>GI20344</td>\n",
       "      <td>1.294275</td>\n",
       "      <td>2.684514</td>\n",
       "      <td>1.866539</td>\n",
       "    </tr>\n",
       "    <tr>\n",
       "      <th>4</th>\n",
       "      <td>GI20344</td>\n",
       "      <td>1.306053</td>\n",
       "      <td>2.626536</td>\n",
       "      <td>1.970385</td>\n",
       "    </tr>\n",
       "  </tbody>\n",
       "</table>\n",
       "</div>"
      ],
      "text/plain": [
       "      Gene   2Me-C24   2Me-C26   2Me-C28\n",
       "0  GI20343  1.346744  2.496608  1.463480\n",
       "1  GI20343  1.775602  3.321113  2.007517\n",
       "2  GI20343  2.145769  4.032710  2.505147\n",
       "3  GI20344  1.294275  2.684514  1.866539\n",
       "4  GI20344  1.306053  2.626536  1.970385"
      ]
     },
     "execution_count": 3,
     "metadata": {},
     "output_type": "execute_result"
    }
   ],
   "source": [
    "data1.head()"
   ]
  },
  {
   "cell_type": "code",
   "execution_count": 4,
   "metadata": {
    "collapsed": false
   },
   "outputs": [
    {
     "data": {
      "text/html": [
       "<div>\n",
       "<style scoped>\n",
       "    .dataframe tbody tr th:only-of-type {\n",
       "        vertical-align: middle;\n",
       "    }\n",
       "\n",
       "    .dataframe tbody tr th {\n",
       "        vertical-align: top;\n",
       "    }\n",
       "\n",
       "    .dataframe thead th {\n",
       "        text-align: right;\n",
       "    }\n",
       "</style>\n",
       "<table border=\"1\" class=\"dataframe\">\n",
       "  <thead>\n",
       "    <tr style=\"text-align: right;\">\n",
       "      <th></th>\n",
       "      <th>Gene</th>\n",
       "      <th>C21</th>\n",
       "      <th>C22</th>\n",
       "      <th>C23</th>\n",
       "      <th>C24</th>\n",
       "      <th>C25</th>\n",
       "      <th>C27</th>\n",
       "      <th>C29</th>\n",
       "      <th>C31</th>\n",
       "    </tr>\n",
       "  </thead>\n",
       "  <tbody>\n",
       "    <tr>\n",
       "      <th>0</th>\n",
       "      <td>GI20343</td>\n",
       "      <td>2.316037</td>\n",
       "      <td>3.221617</td>\n",
       "      <td>14.141607</td>\n",
       "      <td>2.051265</td>\n",
       "      <td>1.704792</td>\n",
       "      <td>0.639167</td>\n",
       "      <td>0.0</td>\n",
       "      <td>0.0</td>\n",
       "    </tr>\n",
       "    <tr>\n",
       "      <th>1</th>\n",
       "      <td>GI20343</td>\n",
       "      <td>1.606132</td>\n",
       "      <td>2.376064</td>\n",
       "      <td>11.134285</td>\n",
       "      <td>0.516397</td>\n",
       "      <td>1.486632</td>\n",
       "      <td>0.653211</td>\n",
       "      <td>0.0</td>\n",
       "      <td>0.0</td>\n",
       "    </tr>\n",
       "    <tr>\n",
       "      <th>2</th>\n",
       "      <td>GI20343</td>\n",
       "      <td>1.637710</td>\n",
       "      <td>2.327143</td>\n",
       "      <td>10.121149</td>\n",
       "      <td>1.522632</td>\n",
       "      <td>1.238527</td>\n",
       "      <td>0.594358</td>\n",
       "      <td>0.0</td>\n",
       "      <td>0.0</td>\n",
       "    </tr>\n",
       "    <tr>\n",
       "      <th>3</th>\n",
       "      <td>GI20344</td>\n",
       "      <td>1.320530</td>\n",
       "      <td>3.460702</td>\n",
       "      <td>14.254342</td>\n",
       "      <td>1.039662</td>\n",
       "      <td>1.954967</td>\n",
       "      <td>0.924800</td>\n",
       "      <td>0.0</td>\n",
       "      <td>0.0</td>\n",
       "    </tr>\n",
       "    <tr>\n",
       "      <th>4</th>\n",
       "      <td>GI20344</td>\n",
       "      <td>0.871533</td>\n",
       "      <td>2.262652</td>\n",
       "      <td>10.710961</td>\n",
       "      <td>0.831019</td>\n",
       "      <td>1.524022</td>\n",
       "      <td>0.703428</td>\n",
       "      <td>0.0</td>\n",
       "      <td>0.0</td>\n",
       "    </tr>\n",
       "  </tbody>\n",
       "</table>\n",
       "</div>"
      ],
      "text/plain": [
       "      Gene       C21       C22        C23       C24       C25       C27  C29  \\\n",
       "0  GI20343  2.316037  3.221617  14.141607  2.051265  1.704792  0.639167  0.0   \n",
       "1  GI20343  1.606132  2.376064  11.134285  0.516397  1.486632  0.653211  0.0   \n",
       "2  GI20343  1.637710  2.327143  10.121149  1.522632  1.238527  0.594358  0.0   \n",
       "3  GI20344  1.320530  3.460702  14.254342  1.039662  1.954967  0.924800  0.0   \n",
       "4  GI20344  0.871533  2.262652  10.710961  0.831019  1.524022  0.703428  0.0   \n",
       "\n",
       "   C31  \n",
       "0  0.0  \n",
       "1  0.0  \n",
       "2  0.0  \n",
       "3  0.0  \n",
       "4  0.0  "
      ]
     },
     "execution_count": 4,
     "metadata": {},
     "output_type": "execute_result"
    }
   ],
   "source": [
    "data2.head()"
   ]
  },
  {
   "cell_type": "markdown",
   "metadata": {},
   "source": [
    "# Bar plots"
   ]
  },
  {
   "cell_type": "markdown",
   "metadata": {},
   "source": [
    "## Use seaborn to plot. First we need to reshape the data into a stacked format"
   ]
  },
  {
   "cell_type": "code",
   "execution_count": 5,
   "metadata": {
    "collapsed": false
   },
   "outputs": [],
   "source": [
    "data1_stack = pd.melt(data1,id_vars='Gene', \n",
    "              value_vars=list(data1.columns[1:]),\n",
    "              var_name='Chemicals', \n",
    "              value_name='Value')\n",
    "\n",
    "data1_stack = data1_stack.sort_values(['Gene'])"
   ]
  },
  {
   "cell_type": "code",
   "execution_count": 6,
   "metadata": {
    "collapsed": false
   },
   "outputs": [
    {
     "data": {
      "text/html": [
       "<div>\n",
       "<style scoped>\n",
       "    .dataframe tbody tr th:only-of-type {\n",
       "        vertical-align: middle;\n",
       "    }\n",
       "\n",
       "    .dataframe tbody tr th {\n",
       "        vertical-align: top;\n",
       "    }\n",
       "\n",
       "    .dataframe thead th {\n",
       "        text-align: right;\n",
       "    }\n",
       "</style>\n",
       "<table border=\"1\" class=\"dataframe\">\n",
       "  <thead>\n",
       "    <tr style=\"text-align: right;\">\n",
       "      <th></th>\n",
       "      <th>Gene</th>\n",
       "      <th>Chemicals</th>\n",
       "      <th>Value</th>\n",
       "    </tr>\n",
       "  </thead>\n",
       "  <tbody>\n",
       "    <tr>\n",
       "      <th>65</th>\n",
       "      <td>CG17821</td>\n",
       "      <td>2Me-C28</td>\n",
       "      <td>1.772124</td>\n",
       "    </tr>\n",
       "    <tr>\n",
       "      <th>43</th>\n",
       "      <td>CG17821</td>\n",
       "      <td>2Me-C26</td>\n",
       "      <td>2.424291</td>\n",
       "    </tr>\n",
       "    <tr>\n",
       "      <th>42</th>\n",
       "      <td>CG17821</td>\n",
       "      <td>2Me-C26</td>\n",
       "      <td>3.380547</td>\n",
       "    </tr>\n",
       "    <tr>\n",
       "      <th>64</th>\n",
       "      <td>CG17821</td>\n",
       "      <td>2Me-C28</td>\n",
       "      <td>1.465577</td>\n",
       "    </tr>\n",
       "    <tr>\n",
       "      <th>21</th>\n",
       "      <td>CG17821</td>\n",
       "      <td>2Me-C24</td>\n",
       "      <td>1.092600</td>\n",
       "    </tr>\n",
       "  </tbody>\n",
       "</table>\n",
       "</div>"
      ],
      "text/plain": [
       "       Gene Chemicals     Value\n",
       "65  CG17821   2Me-C28  1.772124\n",
       "43  CG17821   2Me-C26  2.424291\n",
       "42  CG17821   2Me-C26  3.380547\n",
       "64  CG17821   2Me-C28  1.465577\n",
       "21  CG17821   2Me-C24  1.092600"
      ]
     },
     "execution_count": 6,
     "metadata": {},
     "output_type": "execute_result"
    }
   ],
   "source": [
    "data1_stack.head()"
   ]
  },
  {
   "cell_type": "code",
   "execution_count": 7,
   "metadata": {
    "collapsed": false
   },
   "outputs": [],
   "source": [
    "data2_stack = pd.melt(data2,id_vars='Gene', \n",
    "              value_vars=list(data2.columns[1:]),\n",
    "              var_name='Chemicals', \n",
    "              value_name='Value')\n",
    "\n",
    "data2_stack = data2_stack.sort_values(['Gene'])"
   ]
  },
  {
   "cell_type": "code",
   "execution_count": 8,
   "metadata": {
    "collapsed": false
   },
   "outputs": [
    {
     "data": {
      "text/html": [
       "<div>\n",
       "<style scoped>\n",
       "    .dataframe tbody tr th:only-of-type {\n",
       "        vertical-align: middle;\n",
       "    }\n",
       "\n",
       "    .dataframe tbody tr th {\n",
       "        vertical-align: top;\n",
       "    }\n",
       "\n",
       "    .dataframe thead th {\n",
       "        text-align: right;\n",
       "    }\n",
       "</style>\n",
       "<table border=\"1\" class=\"dataframe\">\n",
       "  <thead>\n",
       "    <tr style=\"text-align: right;\">\n",
       "      <th></th>\n",
       "      <th>Gene</th>\n",
       "      <th>Chemicals</th>\n",
       "      <th>Value</th>\n",
       "    </tr>\n",
       "  </thead>\n",
       "  <tbody>\n",
       "    <tr>\n",
       "      <th>87</th>\n",
       "      <td>CG17821</td>\n",
       "      <td>C24</td>\n",
       "      <td>1.670595</td>\n",
       "    </tr>\n",
       "    <tr>\n",
       "      <th>153</th>\n",
       "      <td>CG17821</td>\n",
       "      <td>C29</td>\n",
       "      <td>0.000000</td>\n",
       "    </tr>\n",
       "    <tr>\n",
       "      <th>152</th>\n",
       "      <td>CG17821</td>\n",
       "      <td>C29</td>\n",
       "      <td>0.000000</td>\n",
       "    </tr>\n",
       "    <tr>\n",
       "      <th>131</th>\n",
       "      <td>CG17821</td>\n",
       "      <td>C27</td>\n",
       "      <td>0.825590</td>\n",
       "    </tr>\n",
       "    <tr>\n",
       "      <th>130</th>\n",
       "      <td>CG17821</td>\n",
       "      <td>C27</td>\n",
       "      <td>0.467479</td>\n",
       "    </tr>\n",
       "  </tbody>\n",
       "</table>\n",
       "</div>"
      ],
      "text/plain": [
       "        Gene Chemicals     Value\n",
       "87   CG17821       C24  1.670595\n",
       "153  CG17821       C29  0.000000\n",
       "152  CG17821       C29  0.000000\n",
       "131  CG17821       C27  0.825590\n",
       "130  CG17821       C27  0.467479"
      ]
     },
     "execution_count": 8,
     "metadata": {},
     "output_type": "execute_result"
    }
   ],
   "source": [
    "data2_stack.head()"
   ]
  },
  {
   "cell_type": "markdown",
   "metadata": {},
   "source": [
    "## Plot"
   ]
  },
  {
   "cell_type": "code",
   "execution_count": 16,
   "metadata": {
    "collapsed": false
   },
   "outputs": [
    {
     "data": {
      "image/png": "[encoded data removed]",
      "text/plain": [
       "<matplotlib.figure.Figure at 0x11544d350>"
      ]
     },
     "metadata": {},
     "output_type": "display_data"
    }
   ],
   "source": [
    "#plt.style.use('fivethirtyeight') # If you want different plot style\n",
    "fig1 = plt.figure(figsize=(16,9))\n",
    "fig1.subplots_adjust(hspace=0.15,\n",
    "                     top=0.96,\n",
    "                     left=0.05, \n",
    "                     right=0.97,\n",
    "                     bottom=0.07)\n",
    "sns.set(font_scale=1.5)\n",
    "fig1 = sns.barplot(x=\"Gene\", \n",
    "                   y=\"Value\", \n",
    "                   hue=\"Chemicals\", \n",
    "                   data=data1_stack, \n",
    "                   palette=\"Blues_d\", \n",
    "                   hue_order=['2Me-C24','2Me-C26','2Me-C28'],\n",
    "                   ci=68) # Standard deviation level \n",
    "\n",
    "# If you want a violin plot, use the one below.\n",
    "\"\"\"\n",
    "fig1 = sns.violinplot(x=\"Gene\", \n",
    "                      y=\"Value\", \n",
    "                      hue=\"Chemicals\", \n",
    "                      dodge=True,\n",
    "                      palette=\"Set2\",\n",
    "                      data=data1_stack, \n",
    "                      scale=\"count\",\n",
    "                      hue_order=['2Me-C24','2Me-C26','2Me-C28'])\n",
    "\"\"\"\n",
    "plt.savefig('Gene1.pdf')"
   ]
  },
  {
   "cell_type": "code",
   "execution_count": 14,
   "metadata": {
    "collapsed": false
   },
   "outputs": [
    {
     "data": {
      "image/png": "[encoded data removed]",
      "text/plain": [
       "<matplotlib.figure.Figure at 0x1155b4b90>"
      ]
     },
     "metadata": {},
     "output_type": "display_data"
    }
   ],
   "source": [
    "fig2 = plt.figure(figsize=(16,9))\n",
    "fig2.subplots_adjust(hspace=0.15,\n",
    "                     top=0.96,\n",
    "                     left=0.05, \n",
    "                     right=0.97,\n",
    "                     bottom=0.07)\n",
    "\n",
    "fig2 = sns.barplot(x=\"Gene\", \n",
    "                   y=\"Value\", \n",
    "                   hue=\"Chemicals\", \n",
    "                   data=data2_stack, \n",
    "                   palette=\"Blues_d\", \n",
    "                   hue_order=['C21','C22','C23','C24','C25','C27','C29','C31'], \n",
    "                   ci=68)\n",
    "\n",
    "# If you want a violin plot, use the one below. Violin plot looks very bad when you have many hue levels.\n",
    "\"\"\"\n",
    "fig2 = sns.violinplot(x=\"Gene\", \n",
    "                      y=\"Value\",\n",
    "                      hue=\"Chemicals\", \n",
    "                      dodge=True, \n",
    "                      sacle=\"count\", \n",
    "                      data=data2_stack, \n",
    "                      hue_order=['C21','C22','C23','C24','C25','C27','C29','C31'])\n",
    "\"\"\"\n",
    "\n",
    "plt.savefig('Gene2.pdf')"
   ]
  },
  {
   "cell_type": "code",
   "execution_count": null,
   "metadata": {
    "collapsed": true
   },
   "outputs": [],
   "source": []
  }
 ],
 "metadata": {
  "kernelspec": {
   "display_name": "Python 2",
   "language": "python",
   "name": "python2"
  },
  "language_info": {
   "codemirror_mode": {
    "name": "ipython",
    "version": 2
   },
   "file_extension": ".py",
   "mimetype": "text/x-python",
   "name": "python",
   "nbconvert_exporter": "python",
   "pygments_lexer": "ipython2",
   "version": "2.7.13"
  }
 },
 "nbformat": 4,
 "nbformat_minor": 2
}
